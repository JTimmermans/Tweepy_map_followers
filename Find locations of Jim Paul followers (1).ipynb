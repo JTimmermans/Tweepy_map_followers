{
 "cells": [
  {
   "cell_type": "markdown",
   "metadata": {
    "extensions": {
     "jupyter_dashboards": {
      "version": 1,
      "views": {
       "grid_default": {
        "col": 0,
        "height": 4,
        "hidden": false,
        "row": 0,
        "width": 4
       },
       "report_default": {
        "hidden": true
       }
      }
     }
    }
   },
   "source": [
    "# Locations of twitter followers"
   ]
  },
  {
   "cell_type": "markdown",
   "metadata": {
    "extensions": {
     "jupyter_dashboards": {
      "version": 1,
      "views": {
       "grid_default": {
        "col": 0,
        "height": 4,
        "hidden": false,
        "row": 4,
        "width": 12
       },
       "report_default": {
        "hidden": true
       }
      }
     }
    }
   },
   "source": [
    "The following script retrieves the location of twitter followers, along with their name using the python 'Tweepy' module. When all the followers for a certain account are retrieved, the follower's location are geocoded. Finally all the geocoded addresses are plotted on a map."
   ]
  },
  {
   "cell_type": "markdown",
   "metadata": {
    "extensions": {
     "jupyter_dashboards": {
      "version": 1,
      "views": {
       "grid_default": {
        "col": 4,
        "height": 4,
        "hidden": false,
        "row": 0,
        "width": 4
       },
       "report_default": {
        "hidden": true
       }
      }
     }
    }
   },
   "source": [
    "## Retrieving twitter location data using Tweepy"
   ]
  },
  {
   "cell_type": "markdown",
   "metadata": {
    "extensions": {
     "jupyter_dashboards": {
      "version": 1,
      "views": {
       "grid_default": {
        "col": 8,
        "height": 4,
        "hidden": false,
        "row": 0,
        "width": 4
       },
       "report_default": {
        "hidden": true
       }
      }
     }
    }
   },
   "source": [
    "Import the required modules and set your working directory"
   ]
  },
  {
   "cell_type": "code",
   "execution_count": 1,
   "metadata": {
    "extensions": {
     "jupyter_dashboards": {
      "version": 1,
      "views": {
       "grid_default": {
        "hidden": true
       },
       "report_default": {
        "hidden": true
       }
      }
     }
    }
   },
   "outputs": [],
   "source": [
    "import pandas as pd\n",
    "import tweepy\n",
    "import csv\n",
    "import os\n",
    "import matplotlib as mpl\n",
    "import time\n"
   ]
  },
  {
   "cell_type": "code",
   "execution_count": 2,
   "metadata": {
    "extensions": {
     "jupyter_dashboards": {
      "version": 1,
      "views": {
       "grid_default": {
        "hidden": true
       },
       "report_default": {
        "hidden": true
       }
      }
     }
    }
   },
   "outputs": [],
   "source": [
    "os.chdir('C:\\Users\\Joris\\Google Drive\\Gima\\Python practice\\Tweepy\\data\\\\')"
   ]
  },
  {
   "cell_type": "markdown",
   "metadata": {
    "extensions": {
     "jupyter_dashboards": {
      "version": 1,
      "views": {
       "grid_default": {
        "col": 0,
        "height": 4,
        "hidden": false,
        "row": 8,
        "width": 12
       },
       "report_default": {
        "hidden": true
       }
      }
     }
    }
   },
   "source": [
    "Set the verification variables and authenticate your developper account on twitter. For more information visit: https://developer.twitter.com/en/docs/basics/authentication/overview/authentication-and-authorization"
   ]
  },
  {
   "cell_type": "code",
   "execution_count": 3,
   "metadata": {
    "extensions": {
     "jupyter_dashboards": {
      "version": 1,
      "views": {
       "grid_default": {
        "hidden": true
       },
       "report_default": {
        "hidden": true
       }
      }
     }
    }
   },
   "outputs": [],
   "source": [
    "consumer_key =#use your own keys\n",
    "consumer_secret =#use your own keys\n",
    "access_token =#use your own keys\n",
    "access_token_secret =#use your own keys\n",
    "\n",
    "auth = tweepy.OAuthHandler(consumer_key, consumer_secret)\n",
    "auth.set_access_token(access_token, access_token_secret)"
   ]
  },
  {
   "cell_type": "markdown",
   "metadata": {
    "extensions": {
     "jupyter_dashboards": {
      "version": 1,
      "views": {
       "grid_default": {
        "col": 0,
        "height": 4,
        "hidden": false,
        "row": 12,
        "width": 12
       },
       "report_default": {
        "hidden": true
       }
      }
     }
    }
   },
   "source": [
    "The function get_user_followers_location creates a .csv file that contains the users names, screen names and location from the twitter description from all the followers of a twitter users. It takes one argument: a twitter username."
   ]
  },
  {
   "cell_type": "code",
   "execution_count": 16,
   "metadata": {
    "extensions": {
     "jupyter_dashboards": {
      "version": 1,
      "views": {
       "grid_default": {
        "hidden": true
       },
       "report_default": {
        "hidden": true
       }
      }
     }
    }
   },
   "outputs": [],
   "source": [
    "def get_user_followers_locations(username):\n",
    "    #set the twitter handle for further use\n",
    "    twitter_handle = username\n",
    "\n",
    "    api = tweepy.API(auth, wait_on_rate_limit = True, wait_on_rate_limit_notify = False) '''If rate limit of the Twitter API \n",
    "    is exceeded, the script waits, and continues later. '''\n",
    "\n",
    "    o_file = open(twitter_handle+'_followers_python.csv', 'wb')\n",
    "    f = csv.writer(o_file, delimiter =',')\n",
    "    f.writerow([\"screenname\", \"name\", \"location\"])\n",
    "\n",
    "    users = tweepy.Cursor(api.followers, screen_name=twitter_handle, count = 200).items()\n",
    "\n",
    "    for u in users:\n",
    "        screenname = u.screen_name.encode('utf-8').strip()\n",
    "        name = u.name.encode('utf-8').strip()\n",
    "        location = u.location.encode('utf-8').strip()\n",
    "\n",
    "        f.writerow([screenname, name, location])\n",
    "    o_file.close()\n",
    "    \n",
    "    #Return the twitter username for later use\n",
    "    return twitter_handle"
   ]
  },
  {
   "cell_type": "code",
   "execution_count": 17,
   "metadata": {
    "extensions": {
     "jupyter_dashboards": {
      "version": 1,
      "views": {
       "grid_default": {
        "hidden": true
       },
       "report_default": {
        "hidden": true
       }
      }
     }
    }
   },
   "outputs": [],
   "source": [
    "twitter_handle = get_user_followers_locations('JimPaul95')"
   ]
  },
  {
   "cell_type": "markdown",
   "metadata": {
    "extensions": {
     "jupyter_dashboards": {
      "version": 1,
      "views": {
       "grid_default": {
        "col": 0,
        "height": 4,
        "hidden": false,
        "row": 16,
        "width": 4
       },
       "report_default": {
        "hidden": true
       }
      }
     }
    }
   },
   "source": [
    "## Retrieving coordinate pairs for each follower"
   ]
  },
  {
   "cell_type": "markdown",
   "metadata": {
    "extensions": {
     "jupyter_dashboards": {
      "version": 1,
      "views": {
       "grid_default": {
        "col": 4,
        "height": 4,
        "hidden": false,
        "row": 16,
        "width": 4
       },
       "report_default": {
        "hidden": true
       }
      }
     }
    }
   },
   "source": [
    "Read the created data and print a preview of the first five rows."
   ]
  },
  {
   "cell_type": "code",
   "execution_count": 7,
   "metadata": {
    "extensions": {
     "jupyter_dashboards": {
      "version": 1,
      "views": {
       "grid_default": {
        "hidden": true
       },
       "report_default": {
        "hidden": true
       }
      }
     }
    },
    "scrolled": true
   },
   "outputs": [
    {
     "name": "stdout",
     "output_type": "stream",
     "text": [
      "        screenname                  name               location\n",
      "0  OosterhuisPeter      Peter Oosterhuis                Utrecht\n",
      "1          seonunl  ZoekmachineMarketing                  Gouda\n",
      "2      RSG_Holland    Royal Safety Group  Oostvoorne, Dalweg 26\n",
      "3    Wouter_dehaas        Wouter de Haas                    NaN\n",
      "4     ingejansen81           Inge Jansen  Driebergen-Rijsenburg\n"
     ]
    }
   ],
   "source": [
    "pd.options.mode.chained_assignment = None  # default='warn'\n",
    "df = pd.read_csv(twitter_handle+'_followers_python.csv', sep = ',')\n",
    "print(df.head(5))"
   ]
  },
  {
   "cell_type": "markdown",
   "metadata": {
    "extensions": {
     "jupyter_dashboards": {
      "version": 1,
      "views": {
       "grid_default": {
        "col": 8,
        "height": 4,
        "hidden": false,
        "row": 16,
        "width": 4
       },
       "report_default": {
        "hidden": true
       }
      }
     }
    }
   },
   "source": [
    "Create a dataframe containing all the users that have a location."
   ]
  },
  {
   "cell_type": "code",
   "execution_count": 8,
   "metadata": {
    "extensions": {
     "jupyter_dashboards": {
      "version": 1,
      "views": {
       "grid_default": {
        "hidden": true
       },
       "report_default": {
        "hidden": true
       }
      }
     }
    }
   },
   "outputs": [
    {
     "name": "stdout",
     "output_type": "stream",
     "text": [
      "        screenname                  name               location\n",
      "0  OosterhuisPeter      Peter Oosterhuis                Utrecht\n",
      "1          seonunl  ZoekmachineMarketing                  Gouda\n",
      "2      RSG_Holland    Royal Safety Group  Oostvoorne, Dalweg 26\n",
      "4     ingejansen81           Inge Jansen  Driebergen-Rijsenburg\n",
      "8   lisettehahagen         Lisette Hagen  Amersfoort, Nederland\n"
     ]
    }
   ],
   "source": [
    "df1 = df[(df.location.notnull())]\n",
    "print(df1.head(5))"
   ]
  },
  {
   "cell_type": "markdown",
   "metadata": {
    "extensions": {
     "jupyter_dashboards": {
      "version": 1,
      "views": {
       "grid_default": {
        "col": 0,
        "height": 4,
        "hidden": false,
        "row": 20,
        "width": 12
       },
       "report_default": {
        "hidden": true
       }
      }
     }
    }
   },
   "source": [
    "To obtain latitude and longitude values for each location a geocoder is used. First the appropiate module is imported and a geocoder is created. Nomatim is the geocoder of openstreetmap based on a fair use policy, which can be found at: https://wiki.openstreetmap.org/wiki/Nominatim_usage_policy . More information about the geocoder plugin can be found at: https://geopy.readthedocs.io/en/1.10.0/ ."
   ]
  },
  {
   "cell_type": "code",
   "execution_count": 9,
   "metadata": {
    "extensions": {
     "jupyter_dashboards": {
      "version": 1,
      "views": {
       "grid_default": {
        "hidden": true
       },
       "report_default": {
        "hidden": true
       }
      }
     }
    }
   },
   "outputs": [],
   "source": [
    "from geopy.geocoders import Nominatim\n",
    "geolocator = Nominatim()"
   ]
  },
  {
   "cell_type": "markdown",
   "metadata": {
    "extensions": {
     "jupyter_dashboards": {
      "version": 1,
      "views": {
       "grid_default": {
        "col": 0,
        "height": 4,
        "hidden": false,
        "row": 24,
        "width": 4
       },
       "report_default": {
        "hidden": true
       }
      }
     }
    }
   },
   "source": [
    "Two functions to obtain latitude and longitude values were defined. Then, those the latitude and longitude were applied to their respective columns. Finally the first ten rows are printed to confirm the results."
   ]
  },
  {
   "cell_type": "code",
   "execution_count": 20,
   "metadata": {
    "extensions": {
     "jupyter_dashboards": {
      "version": 1,
      "views": {
       "grid_default": {
        "hidden": true
       },
       "report_default": {
        "hidden": true
       }
      }
     }
    }
   },
   "outputs": [
    {
     "name": "stdout",
     "output_type": "stream",
     "text": [
      "        screenname                  name               location   latitude  \\\n",
      "0  OosterhuisPeter      Peter Oosterhuis                Utrecht  52.080952   \n",
      "1          seonunl  ZoekmachineMarketing                  Gouda  52.018119   \n",
      "2      RSG_Holland    Royal Safety Group  Oostvoorne, Dalweg 26  51.911340   \n",
      "4     ingejansen81           Inge Jansen  Driebergen-Rijsenburg  52.047481   \n",
      "8   lisettehahagen         Lisette Hagen  Amersfoort, Nederland  52.163774   \n",
      "\n",
      "   longitude                              geometry  \n",
      "0   5.127680  POINT (5.12768031549829 52.08095165)  \n",
      "1   4.711122   POINT (4.7111221346978 52.01811935)  \n",
      "2   4.117732          POINT (4.1177322 51.9113402)  \n",
      "4   5.275569   POINT (5.27556919443128 52.0474813)  \n",
      "8   5.396588    POINT (5.3965879493517 52.1637739)  \n"
     ]
    }
   ],
   "source": [
    "def get_lat(input_location):\n",
    "    location = geolocator.geocode(input_location)\n",
    "    #if location is not None and location.latitude is not None:\n",
    "    lat = (location.latitude)\n",
    "        #return lat\n",
    "    return lat\n",
    "\n",
    "def get_lon(input_location):\n",
    "    #time.sleep(0.5)\n",
    "    location = geolocator.geocode(input_location)\n",
    "    #if location is not None and location.longitude is not None:\n",
    "    lon = (location.longitude)\n",
    "        #return lon\n",
    "    return lon\n",
    "\n",
    "df1['latitude'] = df1['location'].apply(get_lat)\n",
    "df1['longitude'] = df1['location'].apply(get_lon)\n",
    "print(df1.head(5))"
   ]
  },
  {
   "cell_type": "markdown",
   "metadata": {
    "extensions": {
     "jupyter_dashboards": {
      "version": 1,
      "views": {
       "grid_default": {
        "col": 4,
        "height": 4,
        "hidden": false,
        "row": 24,
        "width": 4
       },
       "report_default": {
        "hidden": true
       }
      }
     }
    }
   },
   "source": [
    "## Plotting follower data on a map using cartopy and matplotlib"
   ]
  },
  {
   "cell_type": "markdown",
   "metadata": {
    "extensions": {
     "jupyter_dashboards": {
      "version": 1,
      "views": {
       "grid_default": {
        "col": 8,
        "height": 4,
        "hidden": false,
        "row": 24,
        "width": 4
       },
       "report_default": {
        "hidden": true
       }
      }
     }
    }
   },
   "source": [
    "The last step is to print each followers location as a point on a map. This will be done in the next section. With help of:\n",
    "http://andrewgaidus.com/leaflet_webmaps_python/."
   ]
  },
  {
   "cell_type": "code",
   "execution_count": 11,
   "metadata": {
    "extensions": {
     "jupyter_dashboards": {
      "version": 1,
      "views": {
       "grid_default": {
        "hidden": true
       },
       "report_default": {
        "hidden": true
       }
      }
     }
    }
   },
   "outputs": [],
   "source": [
    "#Import the necessary Python moduless\n",
    "import pandas as pd\n",
    "import geopandas as gpd\n",
    "import numpy as np\n",
    "from geopandas.tools import sjoin\n",
    "import folium\n",
    "from folium.plugins import MarkerCluster\n",
    "from folium import IFrame\n",
    "import shapely\n",
    "from shapely.geometry import Point\n",
    "import unicodedata\n",
    "import pysal as ps"
   ]
  },
  {
   "cell_type": "markdown",
   "metadata": {
    "extensions": {
     "jupyter_dashboards": {
      "version": 1,
      "views": {
       "grid_default": {
        "col": 0,
        "height": 4,
        "hidden": false,
        "row": 28,
        "width": 4
       },
       "report_default": {
        "hidden": true
       }
      }
     }
    }
   },
   "source": [
    "The coordinates are concenated as a new geometry column, and written to the ESRI shapefile (.shp) format."
   ]
  },
  {
   "cell_type": "code",
   "execution_count": 12,
   "metadata": {
    "extensions": {
     "jupyter_dashboards": {
      "version": 1,
      "views": {
       "grid_default": {
        "hidden": true
       },
       "report_default": {
        "hidden": true
       }
      }
     }
    }
   },
   "outputs": [],
   "source": [
    "\n",
    "def create_geometry(dataset):\n",
    "    dataset['geometry'] = dataset.apply(lambda x: Point((float(x.longitude), float(x.latitude))), axis=1)\n",
    "    df2 = gpd.GeoDataFrame(dataset, geometry='geometry') \n",
    "    df2.crs= \"+proj=longlat +ellps=WGS84 +datum=WGS84 +no_defs\"\n",
    "    df2.to_file(twitter_handle+'_Geometries.shp', driver='ESRI Shapefile')\n",
    "    return df2\n",
    "\n",
    "\n",
    "df2 = create_geometry(df1)"
   ]
  },
  {
   "cell_type": "markdown",
   "metadata": {
    "extensions": {
     "jupyter_dashboards": {
      "version": 1,
      "views": {
       "grid_default": {
        "col": 4,
        "height": 4,
        "hidden": false,
        "row": 28,
        "width": 4
       },
       "report_default": {
        "hidden": true
       }
      }
     }
    }
   },
   "source": [
    "Create a new map object using the Folium mode, set the extent to cover all the points."
   ]
  },
  {
   "cell_type": "code",
   "execution_count": 13,
   "metadata": {
    "extensions": {
     "jupyter_dashboards": {
      "version": 1,
      "views": {
       "grid_default": {
        "hidden": true
       },
       "report_default": {
        "hidden": true
       }
      }
     }
    }
   },
   "outputs": [],
   "source": [
    "#Create SF basemap specifying map center, zoom level, and using the default OpenStreetMap tiles\n",
    "#creating a map that’s centered to our sample\n",
    "tweetmap = folium.Map(location=[df2['latitude'].mean(), df2['longitude'].mean()], zoom_start=7)\n",
    "#tweetmap = folium.Map([52.092876, 5.104480], zoom_start = 12)\n"
   ]
  },
  {
   "cell_type": "markdown",
   "metadata": {},
   "source": [
    "Define a function to add all points to the Folium map, and call this function for the tweetmap. In the markers the the column values for screenname, name, and locations are displayed."
   ]
  },
  {
   "cell_type": "code",
   "execution_count": 14,
   "metadata": {
    "extensions": {
     "jupyter_dashboards": {
      "version": 1,
      "views": {
       "grid_default": {
        "hidden": true
       },
       "report_default": {
        "hidden": true
       }
      }
     }
    }
   },
   "outputs": [],
   "source": [
    "def add_point_clusters(mapobj, gdf, popup_field_list):\n",
    "    #Create empty lists to contain the point coordinates and the point pop-up information\n",
    "    coords, popups = [], [] \n",
    "    #Loop through each record in the GeoDataFrame\n",
    "    for i, row in gdf.iterrows():\n",
    "        #Append lat and long coordinates to \"coords\" list\n",
    "        coords.append([row.geometry.y, row.geometry.x])\n",
    "        #Create a string of HTML code used in the IFrame popup\n",
    "        #Join together the fields in \"popup_field_list\" with a linebreak between them\n",
    "        label = '<br>'.join([row[field] for field in popup_field_list])\n",
    "        #Append an IFrame that uses the HTML string to the \"popups\" list \n",
    "        popups.append(IFrame(label, width = 300, height = 100))\n",
    "        \n",
    "    #Create a Folium feature group for this layer, since we will be displaying multiple layers\n",
    "    pt_lyr = folium.FeatureGroup(name = 'pt_lyr')\n",
    "    \n",
    "    #Add the clustered points of crime locations and popups to this layer\n",
    "    pt_lyr.add_child(MarkerCluster(locations = coords, popups = popups))\n",
    "    \n",
    "    #Add this point layer to the map object\n",
    "    mapobj.add_child(pt_lyr)\n",
    "    return mapobj\n",
    "\n",
    "tweetmap = add_point_clusters(tweetmap, df2, ['screenname', 'name', 'location'])"
   ]
  },
  {
   "cell_type": "markdown",
   "metadata": {},
   "source": [
    "The last step is to add the tweetmap as a layer to a standard Leaftlet framework, and display this framework."
   ]
  },
  {
   "cell_type": "code",
   "execution_count": 15,
   "metadata": {
    "extensions": {
     "jupyter_dashboards": {
      "version": 1,
      "views": {
       "grid_default": {
        "hidden": true
       },
       "report_default": {
        "hidden": true
       }
      }
     }
    },
    "scrolled": true
   },
   "outputs": [
    {
     "data": {
      "text/html": [
       "<div style=\"width:100%;\"><div style=\"position:relative;width:100%;height:0;padding-bottom:60%;\"><iframe src=\"data:text/html;charset=utf-8;base64,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\" style=\"position:absolute;width:100%;height:100%;left:0;top:0;border:none !important;\" allowfullscreen webkitallowfullscreen mozallowfullscreen></iframe></div></div>"
      ],
      "text/plain": [
       "<folium.folium.Map at 0xe8d06a0>"
      ]
     },
     "execution_count": 15,
     "metadata": {},
     "output_type": "execute_result"
    }
   ],
   "source": [
    "folium.LayerControl().add_to(tweetmap) #Add layer control to toggle on/off\n",
    "tweetmap.save(twitter_handle+'.html') #save HTML\n",
    "tweetmap #display map"
   ]
  },
  {
   "cell_type": "markdown",
   "metadata": {},
   "source": [
    "Done!"
   ]
  }
 ],
 "metadata": {
  "extensions": {
   "jupyter_dashboards": {
    "activeView": "report_default",
    "version": 1,
    "views": {
     "grid_default": {
      "cellMargin": 10,
      "defaultCellHeight": 20,
      "maxColumns": 12,
      "name": "grid",
      "type": "grid"
     },
     "report_default": {
      "name": "report",
      "type": "report"
     }
    }
   }
  },
  "kernelspec": {
   "display_name": "Python 2",
   "language": "python",
   "name": "python2"
  },
  "language_info": {
   "codemirror_mode": {
    "name": "ipython",
    "version": 2
   },
   "file_extension": ".py",
   "mimetype": "text/x-python",
   "name": "python",
   "nbconvert_exporter": "python",
   "pygments_lexer": "ipython2",
   "version": "2.7.14"
  }
 },
 "nbformat": 4,
 "nbformat_minor": 2
}
